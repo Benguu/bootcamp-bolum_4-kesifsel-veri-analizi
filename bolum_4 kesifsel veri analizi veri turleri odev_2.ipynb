{
 "cells": [
  {
   "cell_type": "code",
   "execution_count": null,
   "metadata": {},
   "outputs": [],
   "source": [
    "#Rank değişkenini kategorik olarak değerlendirmenin avantaj ve dezavantajlarını göz önünde bulundurun. \n",
    "#Rank değişkenini kategorik olarak değerlendirebiliriz. Sınıflandırma yapmak avantaj sağlayabillir."
   ]
  },
  {
   "cell_type": "code",
   "execution_count": null,
   "metadata": {},
   "outputs": [],
   "source": [
    "#Aşağıdaki değişkenlerin türlerini belirleyin:\n",
    "\n",
    "#Yaş= sürekli değişken\n",
    "#Maaş= sürekli değişken\n",
    "#Gelir = sürekli değişken\n",
    "#Müşteri türü= kategorik değişken\n",
    "#Hisse senedi fiyatı =sürekli değişken"
   ]
  }
 ],
 "metadata": {
  "kernelspec": {
   "display_name": "Python 3",
   "language": "python",
   "name": "python3"
  },
  "language_info": {
   "codemirror_mode": {
    "name": "ipython",
    "version": 3
   },
   "file_extension": ".py",
   "mimetype": "text/x-python",
   "name": "python",
   "nbconvert_exporter": "python",
   "pygments_lexer": "ipython3",
   "version": "3.7.1"
  }
 },
 "nbformat": 4,
 "nbformat_minor": 2
}
