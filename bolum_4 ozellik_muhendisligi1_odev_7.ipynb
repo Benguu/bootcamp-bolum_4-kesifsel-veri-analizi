{
 "cells": [
  {
   "cell_type": "code",
   "execution_count": 2,
   "metadata": {},
   "outputs": [],
   "source": [
    "#soru_1\n",
    "#Sınav sonuçları normal dağılımlı mıdır? \n",
    "#Değilse normal dağılıma sahip hale getirmek için ne yapabiliriz?\n",
    "\n",
    "import matplotlib.pyplot as plt\n",
    "import seaborn as sns\n",
    "import numpy as np\n",
    "import pandas as pd\n",
    "import scipy.stats as stats\n",
    "from scipy.stats.mstats import winsorize\n",
    "from sqlalchemy import create_engine\n",
    "import warnings\n",
    "\n",
    "warnings.filterwarnings('ignore')\n",
    "sns.set(style=\"whitegrid\")\n",
    "baslik_font = {'family': 'arial', 'color': 'darkred','weight': 'bold','size': 13 }\n",
    "eksen_font  = {'family': 'arial', 'color': 'darkblue','weight': 'bold','size': 10 }"
   ]
  },
  {
   "cell_type": "code",
   "execution_count": 5,
   "metadata": {
    "scrolled": true
   },
   "outputs": [
    {
     "data": {
      "text/html": [
       "<div>\n",
       "<style scoped>\n",
       "    .dataframe tbody tr th:only-of-type {\n",
       "        vertical-align: middle;\n",
       "    }\n",
       "\n",
       "    .dataframe tbody tr th {\n",
       "        vertical-align: top;\n",
       "    }\n",
       "\n",
       "    .dataframe thead th {\n",
       "        text-align: right;\n",
       "    }\n",
       "</style>\n",
       "<table border=\"1\" class=\"dataframe\">\n",
       "  <thead>\n",
       "    <tr style=\"text-align: right;\">\n",
       "      <th></th>\n",
       "      <th>cinsiyet</th>\n",
       "      <th>koken</th>\n",
       "      <th>aile_egt_seviyesi</th>\n",
       "      <th>ogle_yemegi</th>\n",
       "      <th>hazirlik_kursu</th>\n",
       "      <th>matematik_notu</th>\n",
       "      <th>okuma_notu</th>\n",
       "      <th>yazma_notu</th>\n",
       "    </tr>\n",
       "  </thead>\n",
       "  <tbody>\n",
       "    <tr>\n",
       "      <th>0</th>\n",
       "      <td>female</td>\n",
       "      <td>group B</td>\n",
       "      <td>bachelor's degree</td>\n",
       "      <td>standard</td>\n",
       "      <td>none</td>\n",
       "      <td>72</td>\n",
       "      <td>72</td>\n",
       "      <td>74</td>\n",
       "    </tr>\n",
       "    <tr>\n",
       "      <th>1</th>\n",
       "      <td>female</td>\n",
       "      <td>group C</td>\n",
       "      <td>some college</td>\n",
       "      <td>standard</td>\n",
       "      <td>completed</td>\n",
       "      <td>69</td>\n",
       "      <td>90</td>\n",
       "      <td>88</td>\n",
       "    </tr>\n",
       "    <tr>\n",
       "      <th>2</th>\n",
       "      <td>female</td>\n",
       "      <td>group B</td>\n",
       "      <td>master's degree</td>\n",
       "      <td>standard</td>\n",
       "      <td>none</td>\n",
       "      <td>90</td>\n",
       "      <td>95</td>\n",
       "      <td>93</td>\n",
       "    </tr>\n",
       "    <tr>\n",
       "      <th>3</th>\n",
       "      <td>male</td>\n",
       "      <td>group A</td>\n",
       "      <td>associate's degree</td>\n",
       "      <td>free/reduced</td>\n",
       "      <td>none</td>\n",
       "      <td>47</td>\n",
       "      <td>57</td>\n",
       "      <td>44</td>\n",
       "    </tr>\n",
       "    <tr>\n",
       "      <th>4</th>\n",
       "      <td>male</td>\n",
       "      <td>group C</td>\n",
       "      <td>some college</td>\n",
       "      <td>standard</td>\n",
       "      <td>none</td>\n",
       "      <td>76</td>\n",
       "      <td>78</td>\n",
       "      <td>75</td>\n",
       "    </tr>\n",
       "  </tbody>\n",
       "</table>\n",
       "</div>"
      ],
      "text/plain": [
       "  cinsiyet    koken   aile_egt_seviyesi   ogle_yemegi hazirlik_kursu  \\\n",
       "0   female  group B   bachelor's degree      standard           none   \n",
       "1   female  group C        some college      standard      completed   \n",
       "2   female  group B     master's degree      standard           none   \n",
       "3     male  group A  associate's degree  free/reduced           none   \n",
       "4     male  group C        some college      standard           none   \n",
       "\n",
       "   matematik_notu  okuma_notu  yazma_notu  \n",
       "0              72          72          74  \n",
       "1              69          90          88  \n",
       "2              90          95          93  \n",
       "3              47          57          44  \n",
       "4              76          78          75  "
      ]
     },
     "execution_count": 5,
     "metadata": {},
     "output_type": "execute_result"
    }
   ],
   "source": [
    "stperform = pd.read_csv('C:\\\\Users\\\\User\\\\Desktop\\\\StudentsPerformance.csv')\n",
    "stperform.columns = ['cinsiyet', 'koken', 'aile_egt_seviyesi', 'ogle_yemegi', \n",
    "                              'hazirlik_kursu', 'matematik_notu', 'okuma_notu', 'yazma_notu']\n",
    "\n",
    "stperform.head()"
   ]
  },
  {
   "cell_type": "code",
   "execution_count": 6,
   "metadata": {
    "scrolled": true
   },
   "outputs": [
    {
     "data": {
      "image/png": "[encoded data removed]",
      "text/plain": [
       "<Figure size 864x504 with 3 Axes>"
      ]
     },
     "metadata": {
      "needs_background": "light"
     },
     "output_type": "display_data"
    }
   ],
   "source": [
    "#Notların histogramla normal dağılıp dağılmadığına bakalım.\n",
    "\n",
    "plt.figure(figsize = (12,7))\n",
    "plt.subplot(1,3,1)\n",
    "plt.hist(stperform['matematik_notu'])\n",
    "plt.title('Matematik Notu', fontdict = baslik_font)\n",
    "plt.subplot(1,3,2)\n",
    "plt.hist(stperform['okuma_notu'])\n",
    "plt.title('Okuma Notu', fontdict = baslik_font)\n",
    "plt.subplot(1,3,3)\n",
    "plt.hist(stperform['yazma_notu'])\n",
    "plt.title('Yazma Notu', fontdict = baslik_font)\n",
    "plt.show()\n",
    "\n",
    "#Grafiklerden notların normal dağılıma uygun gibi görünüyor."
   ]
  },
  {
   "cell_type": "code",
   "execution_count": 7,
   "metadata": {},
   "outputs": [
    {
     "data": {
      "text/html": [
       "<div>\n",
       "<style scoped>\n",
       "    .dataframe tbody tr th:only-of-type {\n",
       "        vertical-align: middle;\n",
       "    }\n",
       "\n",
       "    .dataframe tbody tr th {\n",
       "        vertical-align: top;\n",
       "    }\n",
       "\n",
       "    .dataframe thead th {\n",
       "        text-align: right;\n",
       "    }\n",
       "</style>\n",
       "<table border=\"1\" class=\"dataframe\">\n",
       "  <thead>\n",
       "    <tr style=\"text-align: right;\">\n",
       "      <th></th>\n",
       "      <th>puanlar</th>\n",
       "      <th>jarque_bera_stats</th>\n",
       "      <th>jarque_bera_p_value</th>\n",
       "      <th>normal_stats</th>\n",
       "      <th>normal_p_value</th>\n",
       "    </tr>\n",
       "  </thead>\n",
       "  <tbody>\n",
       "    <tr>\n",
       "      <th>0</th>\n",
       "      <td>matematik_notu</td>\n",
       "      <td>15.91226</td>\n",
       "      <td>0.00035</td>\n",
       "      <td>15.40896</td>\n",
       "      <td>0.00045</td>\n",
       "    </tr>\n",
       "    <tr>\n",
       "      <th>1</th>\n",
       "      <td>okuma_notu</td>\n",
       "      <td>11.38330</td>\n",
       "      <td>0.00337</td>\n",
       "      <td>11.11741</td>\n",
       "      <td>0.00385</td>\n",
       "    </tr>\n",
       "    <tr>\n",
       "      <th>2</th>\n",
       "      <td>yazma_notu</td>\n",
       "      <td>13.98509</td>\n",
       "      <td>0.00092</td>\n",
       "      <td>13.60645</td>\n",
       "      <td>0.00111</td>\n",
       "    </tr>\n",
       "  </tbody>\n",
       "</table>\n",
       "</div>"
      ],
      "text/plain": [
       "          puanlar  jarque_bera_stats  jarque_bera_p_value  normal_stats  \\\n",
       "0  matematik_notu           15.91226              0.00035      15.40896   \n",
       "1      okuma_notu           11.38330              0.00337      11.11741   \n",
       "2      yazma_notu           13.98509              0.00092      13.60645   \n",
       "\n",
       "   normal_p_value  \n",
       "0         0.00045  \n",
       "1         0.00385  \n",
       "2         0.00111  "
      ]
     },
     "execution_count": 7,
     "metadata": {},
     "output_type": "execute_result"
    }
   ],
   "source": [
    "#Normal dağılıma uyduğundan emin olmak için normallik testi yapalım.\n",
    "\n",
    "from scipy.stats import jarque_bera\n",
    "from scipy.stats import normaltest\n",
    "\n",
    "pd.options.display.float_format = '{:.5f}'.format\n",
    "\n",
    "puanlar = [\"matematik_notu\", \"okuma_notu\", \"yazma_notu\"]\n",
    "dagilim_testleri = pd.DataFrame(columns=['puanlar', 'jarque_bera_stats', 'jarque_bera_p_value', \n",
    "                                         'normal_stats', 'normal_p_value'])\n",
    "\n",
    "for puan in puanlar:\n",
    "    jb_stats = jarque_bera(stperform[puan])\n",
    "    norm_stats = normaltest(stperform[puan])\n",
    "    dagilim_testleri = dagilim_testleri.append({\"puanlar\": puan,\n",
    "                                                \"jarque_bera_stats\" : jb_stats[0] ,\n",
    "                                                \"jarque_bera_p_value\" : jb_stats[1] ,\n",
    "                                                \"normal_stats\": norm_stats[0] , \n",
    "                                                \"normal_p_value\" : norm_stats[1]\n",
    "                                               }, ignore_index=True)\n",
    "dagilim_testleri\n",
    "\n",
    "\n",
    "#notlar sanıldığı kadar normal değil. p değeri 0,05'ten küçük "
   ]
  },
  {
   "cell_type": "code",
   "execution_count": 26,
   "metadata": {
    "scrolled": true
   },
   "outputs": [
    {
     "name": "stdout",
     "output_type": "stream",
     "text": [
      "(4.119778184631267, 0.12746810630338878)\n",
      "(4.746478444500504, 0.09317841132652582)\n",
      "(1.7200980667409385, 0.4231413337632879)\n"
     ]
    }
   ],
   "source": [
    "#notları normalleştirelim\n",
    "from scipy.stats import jarque_bera\n",
    "from scipy.stats import boxcox\n",
    "from sklearn.preprocessing import normalize\n",
    "\n",
    "norm1=normalize(np.array(stperform['okuma_notu']).reshape(1,-1)).reshape(-1,1)\n",
    "\n",
    "norm2=normalize(np.array(stperform['yazma_notu']).reshape(1,-1)).reshape(-1,1)\n",
    "\n",
    "math=stperform['matematik_notu'].replace(0,np.nan)\n",
    "math=math.dropna()\n",
    "math=np.array(math)\n",
    "\n",
    "\n",
    "read,_ = boxcox(norm1)\n",
    "writing,_=boxcox(norm2)\n",
    "math,_=boxcox(math)\n",
    "\n",
    "normed1=jarque_bera(read)\n",
    "normed2=jarque_bera(writing)\n",
    "normed3=jarque_bera(math)\n",
    "\n",
    "print (normed1)\n",
    "print (normed2)\n",
    "print (normed3)\n",
    "# p değerleri 0,05'ten büyük normalleştirildi."
   ]
  },
  {
   "cell_type": "code",
   "execution_count": 27,
   "metadata": {},
   "outputs": [
    {
     "data": {
      "text/plain": [
       "0   72.66667\n",
       "1   82.33333\n",
       "2   92.66667\n",
       "3   49.33333\n",
       "4   76.33333\n",
       "Name: ort_not, dtype: float64"
      ]
     },
     "execution_count": 27,
     "metadata": {},
     "output_type": "execute_result"
    }
   ],
   "source": [
    "#soru_2\n",
    "#Üç sınav sonucunu tek bir değişkende, hedef değişkeni olarak tutmak istiyoruz. \n",
    "#Bunun için üç sınavın ortalamasını içeren yeni bir değişken tanımlayın. \n",
    "#Bu yeni değişkenin ortalamasının normal dağılımlı olup olmadığını test edin. \n",
    "#Eğer normal dağılıma sahip değilse dönüşüm yaparak normal dağılımlı hale getirmeye çalışın ve dönüşümün sonucunu test edin.\n",
    "\n",
    "stperform['ort_not'] = (stperform['matematik_notu'] + stperform['okuma_notu'] + stperform['yazma_notu'])/3\n",
    "stperform['ort_not'].head()\n",
    "\n"
   ]
  },
  {
   "cell_type": "code",
   "execution_count": 28,
   "metadata": {},
   "outputs": [
    {
     "data": {
      "image/png": "[encoded data removed]",
      "text/plain": [
       "<Figure size 432x288 with 1 Axes>"
      ]
     },
     "metadata": {
      "needs_background": "light"
     },
     "output_type": "display_data"
    }
   ],
   "source": [
    "plt.hist(stperform['ort_not'])\n",
    "plt.show()"
   ]
  },
  {
   "cell_type": "code",
   "execution_count": 29,
   "metadata": {},
   "outputs": [
    {
     "data": {
      "text/plain": [
       "NormaltestResult(statistic=15.186721327231322, pvalue=0.0005037851534494478)"
      ]
     },
     "execution_count": 29,
     "metadata": {},
     "output_type": "execute_result"
    }
   ],
   "source": [
    "normaltest(stperform['ort_not'])  #normal dağılıma sahip değil"
   ]
  },
  {
   "cell_type": "code",
   "execution_count": 37,
   "metadata": {},
   "outputs": [
    {
     "name": "stdout",
     "output_type": "stream",
     "text": [
      "(2.435398821322927, 0.2959101521819576)\n"
     ]
    }
   ],
   "source": [
    "from scipy.stats import jarque_bera\n",
    "from scipy.stats import boxcox\n",
    "from sklearn.preprocessing import normalize\n",
    "\n",
    "normort=normalize(np.array(stperform['ort_not']).reshape(1,-1)).reshape(-1,1)\n",
    "ort_not,_ = boxcox(normort)\n",
    "norm_ortnot=jarque_bera(ort_not)\n",
    "print(norm_ortnot)\n",
    "\n",
    "#ortlama not normalleştirildi."
   ]
  },
  {
   "cell_type": "code",
   "execution_count": 38,
   "metadata": {},
   "outputs": [
    {
     "data": {
      "text/html": [
       "<div>\n",
       "<style scoped>\n",
       "    .dataframe tbody tr th:only-of-type {\n",
       "        vertical-align: middle;\n",
       "    }\n",
       "\n",
       "    .dataframe tbody tr th {\n",
       "        vertical-align: top;\n",
       "    }\n",
       "\n",
       "    .dataframe thead th {\n",
       "        text-align: right;\n",
       "    }\n",
       "</style>\n",
       "<table border=\"1\" class=\"dataframe\">\n",
       "  <thead>\n",
       "    <tr style=\"text-align: right;\">\n",
       "      <th></th>\n",
       "      <th>matematik_notu</th>\n",
       "      <th>okuma_notu</th>\n",
       "      <th>yazma_notu</th>\n",
       "      <th>norm_read</th>\n",
       "      <th>norm_writing</th>\n",
       "      <th>ort_not</th>\n",
       "      <th>log_ort_not</th>\n",
       "    </tr>\n",
       "  </thead>\n",
       "  <tbody>\n",
       "    <tr>\n",
       "      <th>matematik_notu</th>\n",
       "      <td>1.00000</td>\n",
       "      <td>0.81758</td>\n",
       "      <td>0.80264</td>\n",
       "      <td>0.81758</td>\n",
       "      <td>0.80264</td>\n",
       "      <td>0.91875</td>\n",
       "      <td>0.89910</td>\n",
       "    </tr>\n",
       "    <tr>\n",
       "      <th>okuma_notu</th>\n",
       "      <td>0.81758</td>\n",
       "      <td>1.00000</td>\n",
       "      <td>0.95460</td>\n",
       "      <td>1.00000</td>\n",
       "      <td>0.95460</td>\n",
       "      <td>0.97033</td>\n",
       "      <td>0.94291</td>\n",
       "    </tr>\n",
       "    <tr>\n",
       "      <th>yazma_notu</th>\n",
       "      <td>0.80264</td>\n",
       "      <td>0.95460</td>\n",
       "      <td>1.00000</td>\n",
       "      <td>0.95460</td>\n",
       "      <td>1.00000</td>\n",
       "      <td>0.96567</td>\n",
       "      <td>0.94149</td>\n",
       "    </tr>\n",
       "    <tr>\n",
       "      <th>norm_read</th>\n",
       "      <td>0.81758</td>\n",
       "      <td>1.00000</td>\n",
       "      <td>0.95460</td>\n",
       "      <td>1.00000</td>\n",
       "      <td>0.95460</td>\n",
       "      <td>0.97033</td>\n",
       "      <td>0.94291</td>\n",
       "    </tr>\n",
       "    <tr>\n",
       "      <th>norm_writing</th>\n",
       "      <td>0.80264</td>\n",
       "      <td>0.95460</td>\n",
       "      <td>1.00000</td>\n",
       "      <td>0.95460</td>\n",
       "      <td>1.00000</td>\n",
       "      <td>0.96567</td>\n",
       "      <td>0.94149</td>\n",
       "    </tr>\n",
       "    <tr>\n",
       "      <th>ort_not</th>\n",
       "      <td>0.91875</td>\n",
       "      <td>0.97033</td>\n",
       "      <td>0.96567</td>\n",
       "      <td>0.97033</td>\n",
       "      <td>0.96567</td>\n",
       "      <td>1.00000</td>\n",
       "      <td>0.97508</td>\n",
       "    </tr>\n",
       "    <tr>\n",
       "      <th>log_ort_not</th>\n",
       "      <td>0.89910</td>\n",
       "      <td>0.94291</td>\n",
       "      <td>0.94149</td>\n",
       "      <td>0.94291</td>\n",
       "      <td>0.94149</td>\n",
       "      <td>0.97508</td>\n",
       "      <td>1.00000</td>\n",
       "    </tr>\n",
       "  </tbody>\n",
       "</table>\n",
       "</div>"
      ],
      "text/plain": [
       "                matematik_notu  okuma_notu  yazma_notu  norm_read  \\\n",
       "matematik_notu         1.00000     0.81758     0.80264    0.81758   \n",
       "okuma_notu             0.81758     1.00000     0.95460    1.00000   \n",
       "yazma_notu             0.80264     0.95460     1.00000    0.95460   \n",
       "norm_read              0.81758     1.00000     0.95460    1.00000   \n",
       "norm_writing           0.80264     0.95460     1.00000    0.95460   \n",
       "ort_not                0.91875     0.97033     0.96567    0.97033   \n",
       "log_ort_not            0.89910     0.94291     0.94149    0.94291   \n",
       "\n",
       "                norm_writing  ort_not  log_ort_not  \n",
       "matematik_notu       0.80264  0.91875      0.89910  \n",
       "okuma_notu           0.95460  0.97033      0.94291  \n",
       "yazma_notu           1.00000  0.96567      0.94149  \n",
       "norm_read            0.95460  0.97033      0.94291  \n",
       "norm_writing         1.00000  0.96567      0.94149  \n",
       "ort_not              0.96567  1.00000      0.97508  \n",
       "log_ort_not          0.94149  0.97508      1.00000  "
      ]
     },
     "execution_count": 38,
     "metadata": {},
     "output_type": "execute_result"
    }
   ],
   "source": [
    "#soru_3\n",
    "#Bir önceki soruda oluşturduğumuz hedef değişkeni ile hangi değişkenler ilişkili görünüyor? \n",
    "#Eğer amacımız sınav başarısını belirleyen etkenleri açıklamak olsaydı hangi değişkenleri veri kümemizde tutmamız gerekirdi?\n",
    "\n",
    "stperform.corr()"
   ]
  },
  {
   "cell_type": "code",
   "execution_count": 39,
   "metadata": {},
   "outputs": [
    {
     "name": "stdout",
     "output_type": "stream",
     "text": [
      "Ttest_indResult(statistic=-4.169913529142, pvalue=3.311973638243664e-05)\n",
      "Ttest_indResult(statistic=-8.390944443482592, pvalue=1.633780203592351e-16)\n",
      "Ttest_indResult(statistic=-9.575113051511476, pvalue=7.736791812495384e-21)\n"
     ]
    }
   ],
   "source": [
    "ttest_cinsiyet = stats.ttest_ind(stperform[stperform['cinsiyet'] == 'male']['ort_not'],\n",
    "                                stperform[stperform['cinsiyet'] == 'female']['ort_not'])\n",
    "ttest_hazirlik = stats.ttest_ind(stperform[stperform['hazirlik_kursu'] == 'none']['ort_not'],\n",
    "                                stperform[stperform['hazirlik_kursu'] == 'completed']['ort_not'])\n",
    "ttest_yemek = stats.ttest_ind(stperform[stperform['ogle_yemegi'] == 'free/reduced']['ort_not'],\n",
    "                                stperform[stperform['ogle_yemegi'] == 'standard']['ort_not'])\n",
    "\n",
    "print(ttest_cinsiyet)\n",
    "print(ttest_hazirlik)\n",
    "print(ttest_yemek)\n",
    "\n",
    "#p değerleri çok küçük istatistik anlamlı cinsiyet, hazırlık kursu ve öğle yemeği ortalama not üzerinde etkili.\n",
    "#Bu değerleri veri kümesinde tutumak mantıklı."
   ]
  },
  {
   "cell_type": "code",
   "execution_count": 42,
   "metadata": {},
   "outputs": [
    {
     "name": "stdout",
     "output_type": "stream",
     "text": [
      "ort_not için karşılaştırma"
     ]
    },
    {
     "data": {
      "text/html": [
       "<div>\n",
       "<style scoped>\n",
       "    .dataframe tbody tr th:only-of-type {\n",
       "        vertical-align: middle;\n",
       "    }\n",
       "\n",
       "    .dataframe tbody tr th {\n",
       "        vertical-align: top;\n",
       "    }\n",
       "\n",
       "    .dataframe thead th {\n",
       "        text-align: right;\n",
       "    }\n",
       "</style>\n",
       "<table border=\"1\" class=\"dataframe\">\n",
       "  <thead>\n",
       "    <tr style=\"text-align: right;\">\n",
       "      <th></th>\n",
       "      <th>grup_1</th>\n",
       "      <th>grup_2</th>\n",
       "      <th>istatistik</th>\n",
       "      <th>p_degeri</th>\n",
       "    </tr>\n",
       "  </thead>\n",
       "  <tbody>\n",
       "    <tr>\n",
       "      <th>0</th>\n",
       "      <td>group B</td>\n",
       "      <td>group C</td>\n",
       "      <td>-1.278246741583154</td>\n",
       "      <td>0.201747312277340</td>\n",
       "    </tr>\n",
       "    <tr>\n",
       "      <th>1</th>\n",
       "      <td>group B</td>\n",
       "      <td>group A</td>\n",
       "      <td>1.316504366963353</td>\n",
       "      <td>0.189093058950944</td>\n",
       "    </tr>\n",
       "    <tr>\n",
       "      <th>2</th>\n",
       "      <td>group B</td>\n",
       "      <td>group D</td>\n",
       "      <td>-2.803108399207725</td>\n",
       "      <td>0.005279949204375</td>\n",
       "    </tr>\n",
       "    <tr>\n",
       "      <th>3</th>\n",
       "      <td>group B</td>\n",
       "      <td>group E</td>\n",
       "      <td>-4.460378072613960</td>\n",
       "      <td>0.000011254806794</td>\n",
       "    </tr>\n",
       "    <tr>\n",
       "      <th>4</th>\n",
       "      <td>group C</td>\n",
       "      <td>group A</td>\n",
       "      <td>2.466593204095108</td>\n",
       "      <td>0.014052604831601</td>\n",
       "    </tr>\n",
       "    <tr>\n",
       "      <th>5</th>\n",
       "      <td>group C</td>\n",
       "      <td>group D</td>\n",
       "      <td>-1.806357695360095</td>\n",
       "      <td>0.071381586738136</td>\n",
       "    </tr>\n",
       "    <tr>\n",
       "      <th>6</th>\n",
       "      <td>group C</td>\n",
       "      <td>group E</td>\n",
       "      <td>-3.935868946604548</td>\n",
       "      <td>0.000095801993351</td>\n",
       "    </tr>\n",
       "    <tr>\n",
       "      <th>7</th>\n",
       "      <td>group A</td>\n",
       "      <td>group D</td>\n",
       "      <td>-3.717941592338664</td>\n",
       "      <td>0.000233904167488</td>\n",
       "    </tr>\n",
       "    <tr>\n",
       "      <th>8</th>\n",
       "      <td>group A</td>\n",
       "      <td>group E</td>\n",
       "      <td>-4.958668289961606</td>\n",
       "      <td>0.000001389791047</td>\n",
       "    </tr>\n",
       "    <tr>\n",
       "      <th>9</th>\n",
       "      <td>group D</td>\n",
       "      <td>group E</td>\n",
       "      <td>-2.487048058580620</td>\n",
       "      <td>0.013287580176112</td>\n",
       "    </tr>\n",
       "  </tbody>\n",
       "</table>\n",
       "</div>"
      ],
      "text/plain": [
       "    grup_1   grup_2         istatistik          p_degeri\n",
       "0  group B  group C -1.278246741583154 0.201747312277340\n",
       "1  group B  group A  1.316504366963353 0.189093058950944\n",
       "2  group B  group D -2.803108399207725 0.005279949204375\n",
       "3  group B  group E -4.460378072613960 0.000011254806794\n",
       "4  group C  group A  2.466593204095108 0.014052604831601\n",
       "5  group C  group D -1.806357695360095 0.071381586738136\n",
       "6  group C  group E -3.935868946604548 0.000095801993351\n",
       "7  group A  group D -3.717941592338664 0.000233904167488\n",
       "8  group A  group E -4.958668289961606 0.000001389791047\n",
       "9  group D  group E -2.487048058580620 0.013287580176112"
      ]
     },
     "metadata": {},
     "output_type": "display_data"
    }
   ],
   "source": [
    "koken = stperform[\"koken\"].unique()\n",
    "grup_stperform = stperform.groupby(\"koken\")\n",
    "pd.options.display.float_format = '{:.15f}'.format\n",
    "for var in [\"ort_not\"]:\n",
    "    karsilastirma = pd.DataFrame(columns=['grup_1', 'grup_2','istatistik', 'p_degeri'])\n",
    "    print(\"{} için karşılaştırma\".format(var),end='')\n",
    "    for i in range(0, len(etnikkoken)):\n",
    "        for j in range(i+1, len(etnikkoken)):\n",
    "            ttest = stats.ttest_ind(stperform[stperform[\"koken\"]==etnikkoken[i]][var], \n",
    "                                stperform[stperform[\"koken\"]==etnikkoken[j]][var])\n",
    "            grup_1 = koken[i]\n",
    "            grup_2 = koken[j]\n",
    "            istatistik = ttest[0]\n",
    "            p_degeri = ttest[1]\n",
    "            \n",
    "            karsilastirma = karsilastirma.append({\"grup_1\" : grup_1 ,\n",
    "                                                  \"grup_2\" : grup_2 ,\n",
    "                                                  \"istatistik\": istatistik , \n",
    "                                                  \"p_degeri\" : p_degeri}, ignore_index=True)\n",
    "    display(karsilastirma)\n",
    "    \n",
    "    #etnik köken için p değerlerine baktığımızda bazı gruplar için anlamsız."
   ]
  }
 ],
 "metadata": {
  "kernelspec": {
   "display_name": "Python 3",
   "language": "python",
   "name": "python3"
  },
  "language_info": {
   "codemirror_mode": {
    "name": "ipython",
    "version": 3
   },
   "file_extension": ".py",
   "mimetype": "text/x-python",
   "name": "python",
   "nbconvert_exporter": "python",
   "pygments_lexer": "ipython3",
   "version": "3.7.1"
  }
 },
 "nbformat": 4,
 "nbformat_minor": 2
}
