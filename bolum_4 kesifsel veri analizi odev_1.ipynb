{
 "cells": [
  {
   "cell_type": "code",
   "execution_count": null,
   "metadata": {},
   "outputs": [],
   "source": [
    "#Keşifsel Veri Analizinin amacı nedir?\n",
    "\n",
    "# Veriyi anlama verideki anormallikleri tespit etmek, grafikler yardımıyla verileri kontrol ederek ilk incelemeleri yapmaktır.\n",
    "# Gerekirse veriyi temizleyerek özet istatistiklere bakmaktır."
   ]
  },
  {
   "cell_type": "code",
   "execution_count": null,
   "metadata": {},
   "outputs": [],
   "source": [
    "#Bir e-ticaret şirketinin ürünlerine ait müşteri yorumlarını içeren bir veri kümesi üzerinde çalıştığınızı farz edin. \n",
    "#Şirketin web sitesi aracılığıyla toplanan müşteri yorumları içeriğinin olumlu ya da olumsuz olmasına göre 1 ila 5 arasında derecelendirilmiştir.\n",
    "#a. Bu ham veride ne tür problemlerle karşılaşmayı beklersiniz?\n",
    "\n",
    "#Memnuniyet düzeyleri yanlış girilmiş olabilir. Sayı yerine metin vb gibi. Veri hiç girilmemiş olabilir. \n",
    "#Eksik verilerin doldurulması gerekebilir. Doldurma işlemi için de yeterli sayıda veri olması gerekir.\n",
    "\n",
    "#b. Göreviniz müşterilerin yorumlarının olumlu yada olumsuz olduğunu ortaya çıkaran özellikleri belirlemek olsaydı nasıl bir yaplaşımda bulunur \n",
    "#ve bunun için hangi metodları kullanırdınız?\n",
    "\n",
    "#Öncelikle yaş, cinsiyet gibi müşterilerin demografik özelliklerine bakardım.\n",
    "#Ne kadar çok tanımlayıcı veri varsa müşteri hakkında o kadar özellik keşfetmiş olurum. \n",
    "#Müşterinin memnuniyet düzeyine göre yaş grupları, cinsiyet gibi özelliklerine bakmaya çalışırdım.\n",
    "\n",
    "#c. Ham veriden çıkarılabilecek yararlı özelliklerin neler olabilir? \n",
    "#Bu verilere nasıl ulaşılabilirsiniz ve bunların faydalı olup olmayacağını nasıl anlayabilirsiniz?\n",
    "# Ham veriler doğrulanabilir olduğundan daha güvenilir olabilir. \n",
    "#Hedef belirlenip, tanımlayıcı istatistikler çıkarılabilirse yararlı olabilir.\n"
   ]
  }
 ],
 "metadata": {
  "kernelspec": {
   "display_name": "Python 3",
   "language": "python",
   "name": "python3"
  },
  "language_info": {
   "codemirror_mode": {
    "name": "ipython",
    "version": 3
   },
   "file_extension": ".py",
   "mimetype": "text/x-python",
   "name": "python",
   "nbconvert_exporter": "python",
   "pygments_lexer": "ipython3",
   "version": "3.7.1"
  }
 },
 "nbformat": 4,
 "nbformat_minor": 2
}
