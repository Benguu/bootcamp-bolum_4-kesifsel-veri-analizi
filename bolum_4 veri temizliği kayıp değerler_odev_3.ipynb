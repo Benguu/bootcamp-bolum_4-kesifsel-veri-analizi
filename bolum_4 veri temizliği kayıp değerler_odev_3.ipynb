{
 "cells": [
  {
   "cell_type": "code",
   "execution_count": 2,
   "metadata": {},
   "outputs": [
    {
     "name": "stdout",
     "output_type": "stream",
     "text": [
      "<class 'pandas.core.frame.DataFrame'>\n",
      "RangeIndex: 1492 entries, 0 to 1491\n",
      "Data columns (total 25 columns):\n",
      "PRIMARY_KEY                     1492 non-null object\n",
      "STATE                           1492 non-null object\n",
      "YEAR                            1492 non-null int64\n",
      "ENROLL                          1229 non-null float64\n",
      "TOTAL_REVENUE                   1280 non-null float64\n",
      "FEDERAL_REVENUE                 1280 non-null float64\n",
      "STATE_REVENUE                   1280 non-null float64\n",
      "LOCAL_REVENUE                   1280 non-null float64\n",
      "TOTAL_EXPENDITURE               1280 non-null float64\n",
      "INSTRUCTION_EXPENDITURE         1280 non-null float64\n",
      "SUPPORT_SERVICES_EXPENDITURE    1280 non-null float64\n",
      "OTHER_EXPENDITURE               1229 non-null float64\n",
      "CAPITAL_OUTLAY_EXPENDITURE      1280 non-null float64\n",
      "GRADES_PK_G                     1319 non-null float64\n",
      "GRADES_KG_G                     1360 non-null float64\n",
      "GRADES_4_G                      1361 non-null float64\n",
      "GRADES_8_G                      1361 non-null float64\n",
      "GRADES_12_G                     1361 non-null float64\n",
      "GRADES_1_8_G                    1361 non-null float64\n",
      "GRADES_9_12_G                   1361 non-null float64\n",
      "GRADES_ALL_G                    1319 non-null float64\n",
      "AVG_MATH_4_SCORE                536 non-null float64\n",
      "AVG_MATH_8_SCORE                532 non-null float64\n",
      "AVG_READING_4_SCORE             533 non-null float64\n",
      "AVG_READING_8_SCORE             498 non-null float64\n",
      "dtypes: float64(22), int64(1), object(2)\n",
      "memory usage: 291.5+ KB\n"
     ]
    },
    {
     "data": {
      "text/plain": [
       "PRIMARY_KEY                       0.000000\n",
       "STATE                             0.000000\n",
       "YEAR                              0.000000\n",
       "ENROLL                           21.399512\n",
       "TOTAL_REVENUE                    16.562500\n",
       "FEDERAL_REVENUE                  16.562500\n",
       "STATE_REVENUE                    16.562500\n",
       "LOCAL_REVENUE                    16.562500\n",
       "TOTAL_EXPENDITURE                16.562500\n",
       "INSTRUCTION_EXPENDITURE          16.562500\n",
       "SUPPORT_SERVICES_EXPENDITURE     16.562500\n",
       "OTHER_EXPENDITURE                21.399512\n",
       "CAPITAL_OUTLAY_EXPENDITURE       16.562500\n",
       "GRADES_PK_G                      13.115997\n",
       "GRADES_KG_G                       9.705882\n",
       "GRADES_4_G                        9.625276\n",
       "GRADES_8_G                        9.625276\n",
       "GRADES_12_G                       9.625276\n",
       "GRADES_1_8_G                      9.625276\n",
       "GRADES_9_12_G                     9.625276\n",
       "GRADES_ALL_G                     13.115997\n",
       "AVG_MATH_4_SCORE                178.358209\n",
       "AVG_MATH_8_SCORE                180.451128\n",
       "AVG_READING_4_SCORE             179.924953\n",
       "AVG_READING_8_SCORE             199.598394\n",
       "dtype: float64"
      ]
     },
     "execution_count": 2,
     "metadata": {},
     "output_type": "execute_result"
    }
   ],
   "source": [
    "#soru_1\n",
    "#Veri kümesinde yer alan değişkenlerinin tiplerini ve her bir değişkenin eksik (null) değer oranını bulun.\n",
    "import pandas as pd\n",
    "import numpy as np\n",
    "import warnings\n",
    "\n",
    "warnings.filterwarnings('ignore')\n",
    "states = pd.read_csv(\"C:\\\\Users\\\\PC\\\\Desktop\\\\states_all.csv\")\n",
    "states.info()# değişken tiplerini tanıma\n",
    "states.isnull().head(20) \n",
    "states.isnull().sum()*100/states.count() # eksik değer oranını bulma\n"
   ]
  },
  {
   "cell_type": "code",
   "execution_count": 35,
   "metadata": {},
   "outputs": [],
   "source": [
    "#soru_2\n",
    "#Verimizde yıl (year) sütunu olduğunu farketmişsinizdir. \n",
    "#Şimdilik yıl verisini unutun ve her bir gözlemin aynı yıl içerisinde yapıldığını farz edin. \n",
    "#Her bir değişken için eksik değerleri nasıl doldurabileceğinizi düşünün. \n",
    "#Eksik değerleri bir değerle doldurmak hangi değişkenler için anlamlı, hangileri için anlamsızdır?\n",
    "\n",
    "#State ve Year değişkeni metin diğerleri sayısal değerlerdir. AVG ile başlayan veriler oldukça eksik yüzde değerleri de çok fazla.\n",
    "#AVG verilerini ortalamayla doldurmak anlamlı olabilir.\n"
   ]
  },
  {
   "cell_type": "code",
   "execution_count": 12,
   "metadata": {},
   "outputs": [
    {
     "name": "stdout",
     "output_type": "stream",
     "text": [
      "0    208.327876\n",
      "1    234.768293\n",
      "2    215.253932\n",
      "3    210.206028\n",
      "4    208.398961\n",
      "Name: AVG_MATH_4_SCORE, dtype: float64\n",
      "0    252.187522\n",
      "1    278.414711\n",
      "2    265.366278\n",
      "3    256.312090\n",
      "4    260.892247\n",
      "Name: AVG_MATH_8_SCORE, dtype: float64\n",
      "0    207.963517\n",
      "1    218.866154\n",
      "2    206.212716\n",
      "3    208.634458\n",
      "4    196.764414\n",
      "Name: AVG_READING_4_SCORE, dtype: float64\n"
     ]
    },
    {
     "data": {
      "text/plain": [
       "PRIMARY_KEY                      0.000000\n",
       "STATE                            0.000000\n",
       "YEAR                             0.000000\n",
       "ENROLL                          21.399512\n",
       "TOTAL_REVENUE                   16.562500\n",
       "FEDERAL_REVENUE                 16.562500\n",
       "STATE_REVENUE                   16.562500\n",
       "LOCAL_REVENUE                   16.562500\n",
       "TOTAL_EXPENDITURE               16.562500\n",
       "INSTRUCTION_EXPENDITURE         16.562500\n",
       "SUPPORT_SERVICES_EXPENDITURE    16.562500\n",
       "OTHER_EXPENDITURE               21.399512\n",
       "CAPITAL_OUTLAY_EXPENDITURE      16.562500\n",
       "GRADES_PK_G                     13.115997\n",
       "GRADES_KG_G                      9.705882\n",
       "GRADES_4_G                       9.625276\n",
       "GRADES_8_G                       9.625276\n",
       "GRADES_12_G                      9.625276\n",
       "GRADES_1_8_G                     9.625276\n",
       "GRADES_9_12_G                    9.625276\n",
       "GRADES_ALL_G                    13.115997\n",
       "AVG_MATH_4_SCORE                 0.000000\n",
       "AVG_MATH_8_SCORE                 0.000000\n",
       "AVG_READING_4_SCORE              0.000000\n",
       "AVG_READING_8_SCORE              0.000000\n",
       "dtype: float64"
      ]
     },
     "execution_count": 12,
     "metadata": {},
     "output_type": "execute_result"
    }
   ],
   "source": [
    "#soru_3\n",
    "#Şimdi zaman faktörünü dikkate alma zamanı! \n",
    "#2. sorudaki cevabınızı tekrar gözden geçirin ve eksik verileri o yıl içerisinde gözlemlenen değerlere dayanarak doldurun. \n",
    "#Örneğin, bir değeri ortalama değer ile doldurmak isterseniz, o yılın ortalamasını hesaplayın.\n",
    "grouped = states.groupby('YEAR')\n",
    "for name,group in grouped:\n",
    "    states[\"AVG_MATH_4_SCORE\"].fillna(states[\"AVG_MATH_4_SCORE\"].mean(), inplace=True)\n",
    "    states[\"AVG_MATH_8_SCORE\"].fillna(states[\"AVG_MATH_8_SCORE\"].mean(), inplace=True)\n",
    "    states[\"AVG_READING_4_SCORE\"].fillna(states[\"AVG_READING_4_SCORE\"].mean(), inplace=True)\n",
    "    states[\"AVG_READING_8_SCORE\"].fillna(states[\"AVG_READING_8_SCORE\"].mean(), inplace=True)\n",
    "print(states[\"AVG_MATH_4_SCORE\"].head())\n",
    "print(states[\"AVG_MATH_8_SCORE\"].head())   \n",
    "print(states[\"AVG_READING_4_SCORE\"].head())\n",
    "states.isnull().sum()*100/states.count()"
   ]
  },
  {
   "cell_type": "code",
   "execution_count": 6,
   "metadata": {
    "scrolled": true
   },
   "outputs": [
    {
     "data": {
      "text/plain": [
       "PRIMARY_KEY                     0.000000\n",
       "STATE                           0.000000\n",
       "YEAR                            0.000000\n",
       "ENROLL                          3.539209\n",
       "TOTAL_REVENUE                   0.000000\n",
       "FEDERAL_REVENUE                 0.000000\n",
       "STATE_REVENUE                   0.000000\n",
       "LOCAL_REVENUE                   0.000000\n",
       "TOTAL_EXPENDITURE               0.000000\n",
       "INSTRUCTION_EXPENDITURE         0.000000\n",
       "SUPPORT_SERVICES_EXPENDITURE    0.000000\n",
       "OTHER_EXPENDITURE               3.539209\n",
       "CAPITAL_OUTLAY_EXPENDITURE      0.000000\n",
       "GRADES_PK_G                     0.000000\n",
       "GRADES_KG_G                     0.000000\n",
       "GRADES_4_G                      0.000000\n",
       "GRADES_8_G                      0.000000\n",
       "GRADES_12_G                     0.000000\n",
       "GRADES_1_8_G                    0.000000\n",
       "GRADES_9_12_G                   0.000000\n",
       "GRADES_ALL_G                    0.000000\n",
       "AVG_MATH_4_SCORE                0.000000\n",
       "AVG_MATH_8_SCORE                0.000000\n",
       "AVG_READING_4_SCORE             0.000000\n",
       "AVG_READING_8_SCORE             0.067069\n",
       "dtype: float64"
      ]
     },
     "execution_count": 6,
     "metadata": {},
     "output_type": "execute_result"
    }
   ],
   "source": [
    "#soru_4\n",
    "#Bu sefer, eksik değerleri enterpolasyon yaparak doldurun.\n",
    "statesint= states.interpolate()\n",
    "statesint.head(10)\n",
    "statesint.isnull().sum()*100/statesint.count()"
   ]
  },
  {
   "cell_type": "code",
   "execution_count": null,
   "metadata": {},
   "outputs": [],
   "source": [
    "#soru_5\n",
    "#İkinci, üçüncü ve dördüncü sorulardaki cevaplarınızı karşılaştırın. Anlamlı bir fark görebiliyor musunuz?\n",
    "# 3. soruda AVG değerlerini ortalama ile 4. soruda tüm eksik değerleri enterpolasyonla doldurdum ve değer oranlarına baktım.\n",
    "#Anlamlı bir fark göremedim."
   ]
  },
  {
   "cell_type": "code",
   "execution_count": 4,
   "metadata": {},
   "outputs": [],
   "source": [
    "states.to_csv('C:\\\\Users\\\\PC\\\\Desktop\\\\states_temiz.csv', encoding = 'utf8')"
   ]
  }
 ],
 "metadata": {
  "kernelspec": {
   "display_name": "Python 3",
   "language": "python",
   "name": "python3"
  },
  "language_info": {
   "codemirror_mode": {
    "name": "ipython",
    "version": 3
   },
   "file_extension": ".py",
   "mimetype": "text/x-python",
   "name": "python",
   "nbconvert_exporter": "python",
   "pygments_lexer": "ipython3",
   "version": "3.7.1"
  }
 },
 "nbformat": 4,
 "nbformat_minor": 2
}
